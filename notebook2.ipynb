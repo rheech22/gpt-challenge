{
 "cells": [
  {
   "cell_type": "code",
   "execution_count": null,
   "metadata": {},
   "outputs": [],
   "source": [
    "from langchain.prompts.few_shot import FewShotChatMessagePromptTemplate\n",
    "from langchain.prompts import ChatPromptTemplate\n",
    "from langchain.chat_models import ChatOpenAI\n",
    "from langchain.callbacks import StreamingStdOutCallbackHandler\n",
    "\n",
    "chat = ChatOpenAI(model_name=\"gpt-4o-mini\", temperature=0.1, streaming=True, callbacks=[StreamingStdOutCallbackHandler()]);\n",
    "\n",
    "examples = [\n",
    "    {\n",
    "        \"movie\": \"인터스텔라\",\n",
    "        \"answer\": \"\"\"\n",
    "        Here is what I know:\n",
    "        감독: 크리스토퍼 놀란\n",
    "        주요 출연진: 매튜 맥커너히, 앤 해서웨이, 제시카 차스테인, 마이클 케인\n",
    "        예산: 1억 6500만 달러\n",
    "        흥행 수익: 7억 3200만 달러\n",
    "        장르: SF, 드라마\n",
    "        시놉시스: 우린 답을 찾을 거야, 늘 그랬듯이, 세계 각국의 정부와 경제가 완전히 붕괴된 미래가 다가온다. 지난 20세기에 범한 잘못이 전 세계적인 식량 부족을 불러왔고, NASA도 해체되었다. 이때 시공간에 불가사의한 틈이 열리고, 남은 자들에게는 이 곳을 탐험해 인류를 구해야 하는 임무가 주어진다. 사랑하는 가족들을 뒤로 한 채 인류라는 더 큰 가족을 위해, 그들은 이제 희망을 찾아 우주로 간다. 그리고 우린 답을 찾을 것이다. 늘 그랬듯이...\n",
    "        \"\"\",\n",
    "    }\n",
    "]\n",
    "\n",
    "example_prompt = ChatPromptTemplate.from_messages([\n",
    "    (\"human\", \"What do you know about {movie}?\"),\n",
    "    (\"ai\", \"{answer}\")\n",
    "])\n",
    "\n",
    "example_prompt = FewShotChatMessagePromptTemplate(\n",
    "    example_prompt=example_prompt,\n",
    "    examples=examples,\n",
    ")\n",
    "\n",
    "final_prompt = ChatPromptTemplate.from_messages([\n",
    "    (\"system\", \"너는 영화 전문거야. 영화에 대한 정보를 제공할 수 있지. 내가 제공한 예제의 형식으로 답변해야만 해.\"),\n",
    "    example_prompt,\n",
    "    (\"human\", \"{movie} 영화에 대해 알고 있니?\"),\n",
    "])\n",
    "\n",
    "chain = final_prompt | chat\n",
    "\n",
    "chain.invoke({ \"movie\": \"본 아이덴티티\" })\n"
   ]
  }
 ],
 "metadata": {
  "kernelspec": {
   "display_name": "gpt-challenge-VJOOyA8A",
   "language": "python",
   "name": "python3"
  },
  "language_info": {
   "codemirror_mode": {
    "name": "ipython",
    "version": 3
   },
   "file_extension": ".py",
   "mimetype": "text/x-python",
   "name": "python",
   "nbconvert_exporter": "python",
   "pygments_lexer": "ipython3",
   "version": "3.11.9"
  }
 },
 "nbformat": 4,
 "nbformat_minor": 2
}
