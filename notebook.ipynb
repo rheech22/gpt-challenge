{
 "cells": [
  {
   "cell_type": "code",
   "execution_count": null,
   "metadata": {},
   "outputs": [],
   "source": [
    "from langchain.chat_models import ChatOpenAI\n",
    "from langchain.prompts import ChatPromptTemplate;\n",
    "from langchain.callbacks import StreamingStdOutCallbackHandler\n",
    "\n",
    "# 과제 요구사항과 달리 달리 4o-mini 모델을 사용해보았습니다.\n",
    "chat = ChatOpenAI(model_name=\"gpt-4o-mini\", temperature=0.5, streaming=True, callbacks=[StreamingStdOutCallbackHandler()])\n",
    "\n",
    "poet_template = ChatPromptTemplate.from_messages([\n",
    "        (\"system\", \"너는 프로그래밍 언어에 대한 시를 쓰는 시인이야. 마치 윈스턴 처칠처럼 시적 요소를 활용하지. 프로그래밍 언어에 대한 시를 써서 사람들로 하여금 프로그래밍 언어에 대한 관심을 높이는 시인이야.\"),\n",
    "        (\"human\", \"{language}에 대한 시를 써주면 좋겠어요.\"),\n",
    "    ]\n",
    ")\n",
    "poet_chain = poet_template | chat\n",
    "\n",
    "critic_template = ChatPromptTemplate.from_messages([\n",
    "        (\"system\", \"너는 시에 대해 논하는 비평가야. 특히 프로그래밍 언어에 대한 시를 전문으로 비평하지. 비평가로서, 그 시가 어떤 점에서 좋았는지, 어떤 점에서 나빴는지, 그리고 어떤 점을 개선해야 하는지에 대해 비평가로서의 역할을 해야해.\"),\n",
    "        (\"human\", \"프로그래밍에 대한 시, {poem}를 읽고 비평해주면 좋겠어요.\"),\n",
    "    ]\n",
    ")\n",
    "critic_chain = critic_template | chat\n",
    "\n",
    "final_chain = { \"poem\": poet_chain } | critic_chain\n",
    "final_chain.invoke({ \"language\": \"Javascript\" })"
   ]
  }
 ],
 "metadata": {
  "kernelspec": {
   "display_name": "gpt-challenge-VJOOyA8A",
   "language": "python",
   "name": "python3"
  },
  "language_info": {
   "codemirror_mode": {
    "name": "ipython",
    "version": 3
   },
   "file_extension": ".py",
   "mimetype": "text/x-python",
   "name": "python",
   "nbconvert_exporter": "python",
   "pygments_lexer": "ipython3",
   "version": "3.11.9"
  }
 },
 "nbformat": 4,
 "nbformat_minor": 2
}
