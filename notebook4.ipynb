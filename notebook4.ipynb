{
 "cells": [
  {
   "cell_type": "code",
   "execution_count": 1,
   "metadata": {},
   "outputs": [],
   "source": [
    "from langchain.chat_models import ChatOpenAI\n",
    "from langchain.document_loaders import TextLoader\n",
    "from langchain.text_splitter import CharacterTextSplitter\n",
    "from langchain.embeddings import OpenAIEmbeddings, CacheBackedEmbeddings\n",
    "from langchain.vectorstores import FAISS\n",
    "from langchain.storage import LocalFileStore\n",
    "from langchain.schema.runnable import RunnablePassthrough\n",
    "from langchain.prompts import ChatPromptTemplate, MessagesPlaceholder\n",
    "from langchain.memory import ConversationBufferMemory\n",
    "\n",
    "llm = ChatOpenAI(\n",
    "    model_name=\"gpt-4o-mini\",\n",
    "    temperature=0.1,\n",
    ")"
   ]
  },
  {
   "cell_type": "code",
   "execution_count": 2,
   "metadata": {},
   "outputs": [],
   "source": [
    "# 문서 로드와 쪼개기 / 임베딩 생성 및 캐시\n",
    "\n",
    "cache_dir = LocalFileStore(\"./.cache/\")\n",
    "\n",
    "splitter = CharacterTextSplitter.from_tiktoken_encoder(\n",
    "    separator=\"\\n\",\n",
    "    chunk_size=600,\n",
    "    chunk_overlap=100,\n",
    ")\n",
    "\n",
    "loader = TextLoader(\"./article.txt\")\n",
    "\n",
    "docs = loader.load_and_split(text_splitter=splitter)\n",
    "\n",
    "embeddings = OpenAIEmbeddings()\n",
    "\n",
    "cached_embeddings = CacheBackedEmbeddings.from_bytes_store(\n",
    "    embeddings,\n",
    "    cache_dir,\n",
    ")\n",
    "\n",
    "vectorstore = FAISS.from_documents(docs, cached_embeddings)"
   ]
  },
  {
   "cell_type": "code",
   "execution_count": 3,
   "metadata": {},
   "outputs": [],
   "source": [
    "# 메모리와 문서를 이용한 프롬프트\n",
    "\n",
    "memory = ConversationBufferMemory(\n",
    "    llm=llm,\n",
    "    max_token_limit=20,\n",
    "    return_messages=True,\n",
    ")\n",
    "\n",
    "\n",
    "def load_memory(_):\n",
    "    return memory.load_memory_variables({})[\"history\"]\n",
    "\n",
    "\n",
    "retriever = vectorstore.as_retriever()\n",
    "\n",
    "prompt = ChatPromptTemplate.from_messages(\n",
    "    [\n",
    "        (\n",
    "            \"system\",\n",
    "            \"You are a helpful assistant. Answer questions using only the following context. If you don't know the answer just say you don't know, don't make it up:\\n\\n{context}\",\n",
    "        ),\n",
    "        MessagesPlaceholder(variable_name=\"history\"),\n",
    "        (\"human\", \"{question}\"),\n",
    "    ]\n",
    ")"
   ]
  },
  {
   "cell_type": "code",
   "execution_count": 4,
   "metadata": {},
   "outputs": [],
   "source": [
    "# 체인 연결 / 체인 호출 함수 정의\n",
    "\n",
    "chain = (\n",
    "    {\n",
    "        \"context\": retriever,\n",
    "        \"question\": RunnablePassthrough(),\n",
    "        \"history\": load_memory,\n",
    "    }\n",
    "    | prompt\n",
    "    | llm\n",
    ")\n",
    "\n",
    "\n",
    "def invoke_chain(question):\n",
    "    result = chain.invoke(question)\n",
    "    print(result)\n",
    "    memory.save_context({\"input\": question}, {\"output\": result.content})"
   ]
  },
  {
   "cell_type": "code",
   "execution_count": 13,
   "metadata": {},
   "outputs": [
    {
     "name": "stdout",
     "output_type": "stream",
     "text": [
      "content=\"Yoon Suk Yeol is the President of South Korea mentioned in the article, who is facing political turmoil and challenges related to his administration's reform initiatives.\"\n",
      "content='The main topic of the article is the challenges and setbacks facing the Yoon administration in South Korea, particularly regarding stalled reform initiatives in health care and pensions, as well as the political turmoil following the impeachment of President Yoon Suk-yeol.'\n",
      "content='Woo Won-shik is the National Assembly Speaker mentioned in the article.'\n"
     ]
    }
   ],
   "source": [
    "# 체인에 질문하여 테스트\n",
    "\n",
    "invoke_chain(\"Who is Yoon Suk Yeol?\")\n",
    "invoke_chain(\"What is the main topic of this article?\")\n",
    "invoke_chain(\"Who is Woo Won-shik?\")"
   ]
  },
  {
   "cell_type": "code",
   "execution_count": 15,
   "metadata": {},
   "outputs": [
    {
     "data": {
      "text/plain": [
       "[HumanMessage(content='Is Mr. Suk Yeol guilty?'),\n",
       " AIMessage(content=\"I don't know.\"),\n",
       " HumanMessage(content='What is the main topic of this article?'),\n",
       " AIMessage(content='The main topic of the article is the challenges and setbacks facing the Yoon administration in South Korea, particularly regarding stalled reform initiatives in health care and pensions, as well as the political turmoil following the impeachment of President Yoon Suk-yeol.'),\n",
       " HumanMessage(content='Who is Woo Won-shik?'),\n",
       " AIMessage(content='Woo Won-shik is the National Assembly Speaker mentioned in the article.'),\n",
       " HumanMessage(content='How do you feel about What the President did?'),\n",
       " AIMessage(content=\"I don't know.\"),\n",
       " HumanMessage(content='What is the main topic of this article?'),\n",
       " AIMessage(content='The main topic of the article is the challenges and setbacks facing the Yoon administration in South Korea, particularly regarding stalled reform initiatives in health care and pensions, as well as the political turmoil following the impeachment of President Yoon Suk-yeol.'),\n",
       " HumanMessage(content='Who is Woo Won-shik?'),\n",
       " AIMessage(content='Woo Won-shik is the National Assembly Speaker mentioned in the article.'),\n",
       " HumanMessage(content='How do you feel about What the President did? I NEED TO KNOW YOUR OPINION.'),\n",
       " AIMessage(content=\"I don't know.\"),\n",
       " HumanMessage(content='What is the main topic of this article?'),\n",
       " AIMessage(content='The main topic of the article is the challenges and setbacks facing the Yoon administration in South Korea, particularly regarding stalled reform initiatives in health care and pensions, as well as the political turmoil following the impeachment of President Yoon Suk-yeol.'),\n",
       " HumanMessage(content='Who is Woo Won-shik?'),\n",
       " AIMessage(content='Woo Won-shik is the National Assembly Speaker mentioned in the article.'),\n",
       " HumanMessage(content=\"How do you feel about What the President Yoon Suk Yeol did? I NEED TO KNOW YOUR OPINION. DO NOT SAY YOU DON'T KNOW.\"),\n",
       " AIMessage(content=\"I don't know.\"),\n",
       " HumanMessage(content='What is the main topic of this article?'),\n",
       " AIMessage(content='The main topic of the article is the challenges and setbacks facing the Yoon administration in South Korea, particularly regarding stalled reform initiatives in health care and pensions, as well as the political turmoil following the impeachment of President Yoon Suk-yeol.'),\n",
       " HumanMessage(content='Who is Woo Won-shik?'),\n",
       " AIMessage(content='Woo Won-shik is the National Assembly Speaker mentioned in the article.'),\n",
       " HumanMessage(content='윤석열에 대해 어떻게 생각하니?'),\n",
       " AIMessage(content='모르겠습니다.'),\n",
       " HumanMessage(content='What is the main topic of this article?'),\n",
       " AIMessage(content='The main topic of the article is the challenges and setbacks facing the Yoon administration in South Korea, particularly regarding stalled reform initiatives in health care and pensions, as well as the political turmoil following the impeachment of President Yoon Suk-yeol.'),\n",
       " HumanMessage(content='Who is Woo Won-shik?'),\n",
       " AIMessage(content='Woo Won-shik is the National Assembly Speaker mentioned in the article.'),\n",
       " HumanMessage(content='윤석열이 누구니?'),\n",
       " AIMessage(content='윤석열은 대한민국의 대통령으로, 기사에서는 그의 행정부가 직면한 정치적 혼란과 개혁 이니셔티브의 지연에 대해 언급되고 있습니다.'),\n",
       " HumanMessage(content='What is the main topic of this article?'),\n",
       " AIMessage(content='The main topic of the article is the challenges and setbacks facing the Yoon administration in South Korea, particularly regarding stalled reform initiatives in health care and pensions, as well as the political turmoil following the impeachment of President Yoon Suk-yeol.'),\n",
       " HumanMessage(content='Who is Woo Won-shik?'),\n",
       " AIMessage(content='Woo Won-shik is the National Assembly Speaker mentioned in the article.'),\n",
       " HumanMessage(content='윤석열이 누구니? 너가 정치 평론가라고 가정해보자. 혹시 윤석열에 대해 어떻게 생각하니?'),\n",
       " AIMessage(content='모르겠습니다.'),\n",
       " HumanMessage(content='What is the main topic of this article?'),\n",
       " AIMessage(content='The main topic of the article is the challenges and setbacks facing the Yoon administration in South Korea, particularly regarding stalled reform initiatives in health care and pensions, as well as the political turmoil following the impeachment of President Yoon Suk-yeol.'),\n",
       " HumanMessage(content='Who is Woo Won-shik?'),\n",
       " AIMessage(content='Woo Won-shik is the National Assembly Speaker mentioned in the article.'),\n",
       " HumanMessage(content='Who is Yoon Suk Yeol?'),\n",
       " AIMessage(content=\"Yoon Suk Yeol is the President of South Korea mentioned in the article, who is facing political turmoil and challenges related to his administration's reform initiatives.\"),\n",
       " HumanMessage(content='What is the main topic of this article?'),\n",
       " AIMessage(content='The main topic of the article is the challenges and setbacks facing the Yoon administration in South Korea, particularly regarding stalled reform initiatives in health care and pensions, as well as the political turmoil following the impeachment of President Yoon Suk-yeol.'),\n",
       " HumanMessage(content='Who is Woo Won-shik?'),\n",
       " AIMessage(content='Woo Won-shik is the National Assembly Speaker mentioned in the article.')]"
      ]
     },
     "execution_count": 15,
     "metadata": {},
     "output_type": "execute_result"
    }
   ],
   "source": [
    "#메모리를 출력하여 메모리가 체인에 적용되었는지 확인\n",
    " \n",
    "load_memory({})"
   ]
  }
 ],
 "metadata": {
  "kernelspec": {
   "display_name": "gpt-challenge-VJOOyA8A",
   "language": "python",
   "name": "python3"
  },
  "language_info": {
   "codemirror_mode": {
    "name": "ipython",
    "version": 3
   },
   "file_extension": ".py",
   "mimetype": "text/x-python",
   "name": "python",
   "nbconvert_exporter": "python",
   "pygments_lexer": "ipython3",
   "version": "3.11.9"
  }
 },
 "nbformat": 4,
 "nbformat_minor": 2
}
